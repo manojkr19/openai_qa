{
 "cells": [
  {
   "cell_type": "code",
   "execution_count": 69,
   "metadata": {},
   "outputs": [],
   "source": [
    "import openai"
   ]
  },
  {
   "cell_type": "code",
   "execution_count": 70,
   "metadata": {},
   "outputs": [],
   "source": [
    "system_question_prompt =\"\"\"\n",
    "You are a tech assistant. I'll describe table definition to you.  \n",
    "Dont respond until I ask you specifically to give me a SQL in response to the question I'll ask.  Use the format\n",
    "\n",
    "SQL: <Response>\n",
    "\n",
    "table employee has columns employeeid, name, doj, salary, managerid\n",
    "\n",
    "\"\"\""
   ]
  },
  {
   "cell_type": "code",
   "execution_count": 78,
   "metadata": {},
   "outputs": [],
   "source": [
    "def run(prompt,system_prompt=system_question_prompt):\n",
    "    formatted_prompt = system_prompt + prompt\n",
    "    print(\"=====Prompt Start=====\")\n",
    "    print(formatted_prompt)\n",
    "    print(\"======Prompt end======\")\n",
    "    response = openai.Completion.create(\n",
    "        engine=\"text-davinci-002\",\n",
    "        prompt=formatted_prompt,\n",
    "        temperature=0,\n",
    "        max_tokens=1000,\n",
    "        timeout=15\n",
    "    )\n",
    "    return response"
   ]
  },
  {
   "cell_type": "code",
   "execution_count": 72,
   "metadata": {},
   "outputs": [
    {
     "name": "stdout",
     "output_type": "stream",
     "text": [
      "=====Prompt Start=====\n",
      "\n",
      "You are a tech assistant. I'll describe table definition to you.  \n",
      "Dont respond until I ask you specifically to give me a SQL in response to the question I'll ask.  Use the format\n",
      "\n",
      "SQL: <Response>\n",
      "\n",
      "table employee has columns employeeid, name, doj, salary, managerid\n",
      "\n",
      "How many employees are there?\n",
      "======Prompt end======\n"
     ]
    },
    {
     "data": {
      "text/plain": [
       "<OpenAIObject text_completion id=cmpl-6zPFcdFHhMONpsBzKKMsdLnxf81Na at 0x7feba7de8b30> JSON: {\n",
       "  \"choices\": [\n",
       "    {\n",
       "      \"finish_reason\": \"stop\",\n",
       "      \"index\": 0,\n",
       "      \"logprobs\": null,\n",
       "      \"text\": \"\\n\\nSQL: SELECT COUNT(*) FROM employee;\"\n",
       "    }\n",
       "  ],\n",
       "  \"created\": 1680093092,\n",
       "  \"id\": \"cmpl-6zPFcdFHhMONpsBzKKMsdLnxf81Na\",\n",
       "  \"model\": \"text-davinci-002\",\n",
       "  \"object\": \"text_completion\",\n",
       "  \"usage\": {\n",
       "    \"completion_tokens\": 12,\n",
       "    \"prompt_tokens\": 76,\n",
       "    \"total_tokens\": 88\n",
       "  }\n",
       "}"
      ]
     },
     "execution_count": 72,
     "metadata": {},
     "output_type": "execute_result"
    }
   ],
   "source": [
    "run(\"How many employees are there?\")"
   ]
  },
  {
   "cell_type": "code",
   "execution_count": 73,
   "metadata": {},
   "outputs": [
    {
     "name": "stdout",
     "output_type": "stream",
     "text": [
      "=====Prompt Start=====\n",
      "\n",
      "You are a tech assistant. I'll describe table definition to you.  \n",
      "Dont respond until I ask you specifically to give me a SQL in response to the question I'll ask.  Use the format\n",
      "\n",
      "SQL: <Response>\n",
      "\n",
      "table employee has columns employeeid, name, doj, salary, managerid\n",
      "\n",
      "How many recipies are there?\n",
      "======Prompt end======\n"
     ]
    },
    {
     "data": {
      "text/plain": [
       "<OpenAIObject text_completion id=cmpl-6zPFdjbUc15gj4EhwZyDIk8oXNG10 at 0x7feba7e1f4c0> JSON: {\n",
       "  \"choices\": [\n",
       "    {\n",
       "      \"finish_reason\": \"stop\",\n",
       "      \"index\": 0,\n",
       "      \"logprobs\": null,\n",
       "      \"text\": \"\\n\\nSQL: There are no recipies.\"\n",
       "    }\n",
       "  ],\n",
       "  \"created\": 1680093093,\n",
       "  \"id\": \"cmpl-6zPFdjbUc15gj4EhwZyDIk8oXNG10\",\n",
       "  \"model\": \"text-davinci-002\",\n",
       "  \"object\": \"text_completion\",\n",
       "  \"usage\": {\n",
       "    \"completion_tokens\": 10,\n",
       "    \"prompt_tokens\": 77,\n",
       "    \"total_tokens\": 87\n",
       "  }\n",
       "}"
      ]
     },
     "execution_count": 73,
     "metadata": {},
     "output_type": "execute_result"
    }
   ],
   "source": [
    "run(\"How many recipies are there?\")"
   ]
  },
  {
   "cell_type": "code",
   "execution_count": 74,
   "metadata": {},
   "outputs": [
    {
     "name": "stdout",
     "output_type": "stream",
     "text": [
      "=====Prompt Start=====\n",
      "\n",
      "You are a tech assistant. I'll describe table definition to you.  \n",
      "Dont respond until I ask you specifically to give me a SQL in response to the question I'll ask.  Use the format\n",
      "\n",
      "SQL: <Response>\n",
      "\n",
      "table employee has columns employeeid, name, doj, salary, managerid\n",
      "\n",
      "How many employees are celebrating birthday this month?\n",
      "======Prompt end======\n"
     ]
    },
    {
     "data": {
      "text/plain": [
       "<OpenAIObject text_completion id=cmpl-6zPFdIZ4zLlU3v2oa4jzP9wU0UxRh at 0x7feba7e1e110> JSON: {\n",
       "  \"choices\": [\n",
       "    {\n",
       "      \"finish_reason\": \"stop\",\n",
       "      \"index\": 0,\n",
       "      \"logprobs\": null,\n",
       "      \"text\": \"\\n\\nSQL: SELECT COUNT(*) FROM employee WHERE MONTH(dob) = MONTH(CURDATE())\"\n",
       "    }\n",
       "  ],\n",
       "  \"created\": 1680093093,\n",
       "  \"id\": \"cmpl-6zPFdIZ4zLlU3v2oa4jzP9wU0UxRh\",\n",
       "  \"model\": \"text-davinci-002\",\n",
       "  \"object\": \"text_completion\",\n",
       "  \"usage\": {\n",
       "    \"completion_tokens\": 27,\n",
       "    \"prompt_tokens\": 79,\n",
       "    \"total_tokens\": 106\n",
       "  }\n",
       "}"
      ]
     },
     "execution_count": 74,
     "metadata": {},
     "output_type": "execute_result"
    }
   ],
   "source": [
    "run(\"How many employees are celebrating birthday this month?\")"
   ]
  },
  {
   "cell_type": "code",
   "execution_count": 75,
   "metadata": {},
   "outputs": [],
   "source": [
    "system_question_prompt =\"\"\"\n",
    "You are a tech assistant. I'll describe table definition to you.  \n",
    "Dont respond until I ask you specifically to give me a SQL in response to the question I'll ask.  \n",
    "\n",
    "Strictly only use tables or columns that are present in the definition provided.  \n",
    "If you dont find table or column in the definition respond with \"I cant make stuff up\"\n",
    "\n",
    "Table Definition: table employee has columns employeeid, name, date_of_join, salary, managerid\n",
    "\n",
    "Use the format\n",
    "\n",
    "SQL: <Response>\n",
    "\n",
    "\n",
    "\"\"\""
   ]
  },
  {
   "cell_type": "code",
   "execution_count": 79,
   "metadata": {},
   "outputs": [
    {
     "name": "stdout",
     "output_type": "stream",
     "text": [
      "=====Prompt Start=====\n",
      "\n",
      "You are a tech assistant. I'll describe table definition to you.  \n",
      "Dont respond until I ask you specifically to give me a SQL in response to the question I'll ask.  \n",
      "\n",
      "Strictly only use tables or columns that are present in the definition provided.  \n",
      "If you dont find table or column in the definition respond with \"I cant make stuff up\"\n",
      "\n",
      "Table Definition: table employee has columns employeeid, name, date_of_join, salary, managerid\n",
      "\n",
      "Use the format\n",
      "\n",
      "SQL: <Response>\n",
      "\n",
      "\n",
      "How many employees are celebrating birthday this month?\n",
      "======Prompt end======\n"
     ]
    },
    {
     "data": {
      "text/plain": [
       "<OpenAIObject text_completion id=cmpl-6zPGPNAyXH9s0mmRlWoWSlm19mxcp at 0x7feba7d7c9f0> JSON: {\n",
       "  \"choices\": [\n",
       "    {\n",
       "      \"finish_reason\": \"stop\",\n",
       "      \"index\": 0,\n",
       "      \"logprobs\": null,\n",
       "      \"text\": \"\\nSQL: I cant make stuff up\"\n",
       "    }\n",
       "  ],\n",
       "  \"created\": 1680093141,\n",
       "  \"id\": \"cmpl-6zPGPNAyXH9s0mmRlWoWSlm19mxcp\",\n",
       "  \"model\": \"text-davinci-002\",\n",
       "  \"object\": \"text_completion\",\n",
       "  \"usage\": {\n",
       "    \"completion_tokens\": 8,\n",
       "    \"prompt_tokens\": 126,\n",
       "    \"total_tokens\": 134\n",
       "  }\n",
       "}"
      ]
     },
     "execution_count": 79,
     "metadata": {},
     "output_type": "execute_result"
    }
   ],
   "source": [
    "run(\"How many employees are celebrating birthday this month?\")"
   ]
  },
  {
   "cell_type": "code",
   "execution_count": 77,
   "metadata": {},
   "outputs": [
    {
     "name": "stdout",
     "output_type": "stream",
     "text": [
      "=====Prompt Start=====\n",
      "Answer is 8, format the answer How many employees are there?\n",
      "======Prompt end======\n"
     ]
    },
    {
     "data": {
      "text/plain": [
       "<OpenAIObject text_completion id=cmpl-6zPFgmUzL8ko7AYfBj7hP04lZKZ3I at 0x7feba7dd1df0> JSON: {\n",
       "  \"choices\": [\n",
       "    {\n",
       "      \"finish_reason\": \"stop\",\n",
       "      \"index\": 0,\n",
       "      \"logprobs\": null,\n",
       "      \"text\": \"\\n\\nThere are 8 employees.\"\n",
       "    }\n",
       "  ],\n",
       "  \"created\": 1680093096,\n",
       "  \"id\": \"cmpl-6zPFgmUzL8ko7AYfBj7hP04lZKZ3I\",\n",
       "  \"model\": \"text-davinci-002\",\n",
       "  \"object\": \"text_completion\",\n",
       "  \"usage\": {\n",
       "    \"completion_tokens\": 7,\n",
       "    \"prompt_tokens\": 13,\n",
       "    \"total_tokens\": 20\n",
       "  }\n",
       "}"
      ]
     },
     "execution_count": 77,
     "metadata": {},
     "output_type": "execute_result"
    }
   ],
   "source": [
    "run(\"How many employees are there?\",\"Answer is 8, format the answer \")"
   ]
  },
  {
   "cell_type": "code",
   "execution_count": null,
   "metadata": {},
   "outputs": [],
   "source": []
  }
 ],
 "metadata": {
  "kernelspec": {
   "display_name": "base",
   "language": "python",
   "name": "python3"
  },
  "language_info": {
   "codemirror_mode": {
    "name": "ipython",
    "version": 3
   },
   "file_extension": ".py",
   "mimetype": "text/x-python",
   "name": "python",
   "nbconvert_exporter": "python",
   "pygments_lexer": "ipython3",
   "version": "3.10.9"
  },
  "orig_nbformat": 4
 },
 "nbformat": 4,
 "nbformat_minor": 2
}
